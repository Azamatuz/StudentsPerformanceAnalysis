{
  "cells": [
    {
      "metadata": {},
      "cell_type": "markdown",
      "source": "# Welcome to Jupyter!"
    },
    {
      "metadata": {
        "trusted": true
      },
      "cell_type": "code",
      "source": "import pandas as pd # data processing, CSV file I/O (e.g. pd.read_csv)\n\n\n# Upload data from csv file\n# First read with header after creating col list add \" header = None, \"\nstudents_data = pd.read_csv(\"student-mat.csv\")\n# it strange but csv file gives only one column so we need to split data of each row",
      "execution_count": 39,
      "outputs": []
    },
    {
      "metadata": {
        "trusted": true
      },
      "cell_type": "code",
      "source": "import pandas as pd # data processing, CSV file I/O (e.g. pd.read_csv)",
      "execution_count": 12,
      "outputs": []
    },
    {
      "metadata": {
        "trusted": true
      },
      "cell_type": "code",
      "source": "# Upload data from csv file\n# First read with header after creating col list add \" header = None, \"\nstudents_data = pd.read_csv(\"student-mat.csv\")\n# it strange but csv file gives only one cbolumn so we need to split data of each row",
      "execution_count": 42,
      "outputs": []
    },
    {
      "metadata": {
        "trusted": true
      },
      "cell_type": "code",
      "source": "students_data.loc[0]",
      "execution_count": 43,
      "outputs": [
        {
          "output_type": "execute_result",
          "execution_count": 43,
          "data": {
            "text/plain": "school;sex;age;address;famsize;Pstatus;Medu;Fedu;Mjob;Fjob;reason;guardian;traveltime;studytime;failures;schoolsup;famsup;paid;activities;nursery;higher;internet;romantic;famrel;freetime;goout;Dalc;Walc;health;absences;G1;G2;G3    GP;\"F\";18;\"U\";\"GT3\";\"A\";4;4;\"at_home\";\"teacher...\nName: 0, dtype: object"
          },
          "metadata": {}
        }
      ]
    },
    {
      "metadata": {
        "trusted": true,
        "scrolled": true
      },
      "cell_type": "code",
      "source": "#creat columns name list and split one long string to 33 col\ncolumns = str(students_data.head(0)).split(';')\nprint(columns)",
      "execution_count": 45,
      "outputs": [
        {
          "output_type": "stream",
          "text": "['Empty DataFrame\\nColumns: [school', 'sex', 'age', 'address', 'famsize', 'Pstatus', 'Medu', 'Fedu', 'Mjob', 'Fjob', 'reason', 'guardian', 'traveltime', 'studytime', 'failures', 'schoolsup', 'famsup', 'paid', 'activities', 'nursery', 'higher', 'internet', 'romantic', 'famrel', 'freetime', 'goout', 'Dalc', 'Walc', 'health', 'absences', 'G1', 'G2', 'G3]\\nIndex: []']\n",
          "name": "stdout"
        }
      ]
    },
    {
      "metadata": {
        "trusted": true
      },
      "cell_type": "code",
      "source": "col = []",
      "execution_count": 46,
      "outputs": []
    },
    {
      "metadata": {
        "trusted": true
      },
      "cell_type": "code",
      "source": "for i in range(33):\n    print(columns[i])\n    col.append(i)\nprint(col)",
      "execution_count": 47,
      "outputs": [
        {
          "output_type": "stream",
          "text": "Empty DataFrame\nColumns: [school\nsex\nage\naddress\nfamsize\nPstatus\nMedu\nFedu\nMjob\nFjob\nreason\nguardian\ntraveltime\nstudytime\nfailures\nschoolsup\nfamsup\npaid\nactivities\nnursery\nhigher\ninternet\nromantic\nfamrel\nfreetime\ngoout\nDalc\nWalc\nhealth\nabsences\nG1\nG2\nG3]\nIndex: []\n[0, 1, 2, 3, 4, 5, 6, 7, 8, 9, 10, 11, 12, 13, 14, 15, 16, 17, 18, 19, 20, 21, 22, 23, 24, 25, 26, 27, 28, 29, 30, 31, 32]\n",
          "name": "stdout"
        }
      ]
    },
    {
      "metadata": {
        "trusted": true
      },
      "cell_type": "code",
      "source": "# To delete trash data like 'Empty DataFrame\\nColumns:' find index of symbol for cutting\nstr(columns[0]).rfind('[')",
      "execution_count": 30,
      "outputs": [
        {
          "output_type": "execute_result",
          "execution_count": 30,
          "data": {
            "text/plain": "25"
          },
          "metadata": {}
        }
      ]
    },
    {
      "metadata": {
        "trusted": true
      },
      "cell_type": "code",
      "source": "#Remove trash data\ncolumns[0] = columns[0][26:]\ncolumns[-1] = columns[-1][:2]",
      "execution_count": 48,
      "outputs": []
    },
    {
      "metadata": {
        "trusted": true
      },
      "cell_type": "code",
      "source": "print(columns)",
      "execution_count": 49,
      "outputs": [
        {
          "output_type": "stream",
          "text": "['school', 'sex', 'age', 'address', 'famsize', 'Pstatus', 'Medu', 'Fedu', 'Mjob', 'Fjob', 'reason', 'guardian', 'traveltime', 'studytime', 'failures', 'schoolsup', 'famsup', 'paid', 'activities', 'nursery', 'higher', 'internet', 'romantic', 'famrel', 'freetime', 'goout', 'Dalc', 'Walc', 'health', 'absences', 'G1', 'G2', 'G3']\n",
          "name": "stdout"
        }
      ]
    },
    {
      "metadata": {
        "trusted": true
      },
      "cell_type": "code",
      "source": "#srange dataframe with 2 columns, need to be cleaned\nstudents_data.head()",
      "execution_count": 51,
      "outputs": [
        {
          "output_type": "execute_result",
          "execution_count": 51,
          "data": {
            "text/plain": "                                                   0\n0  GP;\"F\";18;\"U\";\"GT3\";\"A\";4;4;\"at_home\";\"teacher...\n1  GP;\"F\";17;\"U\";\"GT3\";\"T\";1;1;\"at_home\";\"other\";...\n2  GP;\"F\";15;\"U\";\"LE3\";\"T\";1;1;\"at_home\";\"other\";...\n3  GP;\"F\";15;\"U\";\"GT3\";\"T\";4;2;\"health\";\"services...\n4  GP;\"F\";16;\"U\";\"GT3\";\"T\";3;3;\"other\";\"other\";\"h...",
            "text/html": "<div>\n<table border=\"1\" class=\"dataframe\">\n  <thead>\n    <tr style=\"text-align: right;\">\n      <th></th>\n      <th>0</th>\n    </tr>\n  </thead>\n  <tbody>\n    <tr>\n      <th>0</th>\n      <td>GP;\"F\";18;\"U\";\"GT3\";\"A\";4;4;\"at_home\";\"teacher...</td>\n    </tr>\n    <tr>\n      <th>1</th>\n      <td>GP;\"F\";17;\"U\";\"GT3\";\"T\";1;1;\"at_home\";\"other\";...</td>\n    </tr>\n    <tr>\n      <th>2</th>\n      <td>GP;\"F\";15;\"U\";\"LE3\";\"T\";1;1;\"at_home\";\"other\";...</td>\n    </tr>\n    <tr>\n      <th>3</th>\n      <td>GP;\"F\";15;\"U\";\"GT3\";\"T\";4;2;\"health\";\"services...</td>\n    </tr>\n    <tr>\n      <th>4</th>\n      <td>GP;\"F\";16;\"U\";\"GT3\";\"T\";3;3;\"other\";\"other\";\"h...</td>\n    </tr>\n  </tbody>\n</table>\n</div>"
          },
          "metadata": {}
        }
      ]
    },
    {
      "metadata": {
        "trusted": true
      },
      "cell_type": "code",
      "source": "students_data.count()",
      "execution_count": 56,
      "outputs": [
        {
          "output_type": "execute_result",
          "execution_count": 56,
          "data": {
            "text/plain": "0    395\ndtype: int64"
          },
          "metadata": {}
        }
      ]
    },
    {
      "metadata": {
        "trusted": true
      },
      "cell_type": "code",
      "source": "type(students_data)",
      "execution_count": 57,
      "outputs": [
        {
          "output_type": "execute_result",
          "execution_count": 57,
          "data": {
            "text/plain": "pandas.core.frame.DataFrame"
          },
          "metadata": {}
        }
      ]
    },
    {
      "metadata": {
        "trusted": true
      },
      "cell_type": "code",
      "source": "#Split strang DF to list of separet rows\nrows_list = []\nfor row in students_data.iterrows():\n    rows_list.append(list(row[1].str.split(';')))",
      "execution_count": 152,
      "outputs": []
    },
    {
      "metadata": {
        "trusted": true
      },
      "cell_type": "code",
      "source": "print(len(rows_list[3][0]))",
      "execution_count": 126,
      "outputs": [
        {
          "output_type": "stream",
          "text": "33\n",
          "name": "stdout"
        }
      ]
    },
    {
      "metadata": {
        "trusted": true
      },
      "cell_type": "code",
      "source": "#creat empty DF with columns\ndf1 = pd.DataFrame(index=range(396), columns=columns)\ndf1.head()",
      "execution_count": 105,
      "outputs": [
        {
          "output_type": "execute_result",
          "execution_count": 105,
          "data": {
            "text/plain": "  school  sex  age address famsize Pstatus Medu Fedu Mjob Fjob ...  famrel  \\\n0    NaN  NaN  NaN     NaN     NaN     NaN  NaN  NaN  NaN  NaN ...     NaN   \n1    NaN  NaN  NaN     NaN     NaN     NaN  NaN  NaN  NaN  NaN ...     NaN   \n2    NaN  NaN  NaN     NaN     NaN     NaN  NaN  NaN  NaN  NaN ...     NaN   \n3    NaN  NaN  NaN     NaN     NaN     NaN  NaN  NaN  NaN  NaN ...     NaN   \n4    NaN  NaN  NaN     NaN     NaN     NaN  NaN  NaN  NaN  NaN ...     NaN   \n\n  freetime goout Dalc Walc health absences   G1   G2   G3  \n0      NaN   NaN  NaN  NaN    NaN      NaN  NaN  NaN  NaN  \n1      NaN   NaN  NaN  NaN    NaN      NaN  NaN  NaN  NaN  \n2      NaN   NaN  NaN  NaN    NaN      NaN  NaN  NaN  NaN  \n3      NaN   NaN  NaN  NaN    NaN      NaN  NaN  NaN  NaN  \n4      NaN   NaN  NaN  NaN    NaN      NaN  NaN  NaN  NaN  \n\n[5 rows x 33 columns]",
            "text/html": "<div>\n<table border=\"1\" class=\"dataframe\">\n  <thead>\n    <tr style=\"text-align: right;\">\n      <th></th>\n      <th>school</th>\n      <th>sex</th>\n      <th>age</th>\n      <th>address</th>\n      <th>famsize</th>\n      <th>Pstatus</th>\n      <th>Medu</th>\n      <th>Fedu</th>\n      <th>Mjob</th>\n      <th>Fjob</th>\n      <th>...</th>\n      <th>famrel</th>\n      <th>freetime</th>\n      <th>goout</th>\n      <th>Dalc</th>\n      <th>Walc</th>\n      <th>health</th>\n      <th>absences</th>\n      <th>G1</th>\n      <th>G2</th>\n      <th>G3</th>\n    </tr>\n  </thead>\n  <tbody>\n    <tr>\n      <th>0</th>\n      <td>NaN</td>\n      <td>NaN</td>\n      <td>NaN</td>\n      <td>NaN</td>\n      <td>NaN</td>\n      <td>NaN</td>\n      <td>NaN</td>\n      <td>NaN</td>\n      <td>NaN</td>\n      <td>NaN</td>\n      <td>...</td>\n      <td>NaN</td>\n      <td>NaN</td>\n      <td>NaN</td>\n      <td>NaN</td>\n      <td>NaN</td>\n      <td>NaN</td>\n      <td>NaN</td>\n      <td>NaN</td>\n      <td>NaN</td>\n      <td>NaN</td>\n    </tr>\n    <tr>\n      <th>1</th>\n      <td>NaN</td>\n      <td>NaN</td>\n      <td>NaN</td>\n      <td>NaN</td>\n      <td>NaN</td>\n      <td>NaN</td>\n      <td>NaN</td>\n      <td>NaN</td>\n      <td>NaN</td>\n      <td>NaN</td>\n      <td>...</td>\n      <td>NaN</td>\n      <td>NaN</td>\n      <td>NaN</td>\n      <td>NaN</td>\n      <td>NaN</td>\n      <td>NaN</td>\n      <td>NaN</td>\n      <td>NaN</td>\n      <td>NaN</td>\n      <td>NaN</td>\n    </tr>\n    <tr>\n      <th>2</th>\n      <td>NaN</td>\n      <td>NaN</td>\n      <td>NaN</td>\n      <td>NaN</td>\n      <td>NaN</td>\n      <td>NaN</td>\n      <td>NaN</td>\n      <td>NaN</td>\n      <td>NaN</td>\n      <td>NaN</td>\n      <td>...</td>\n      <td>NaN</td>\n      <td>NaN</td>\n      <td>NaN</td>\n      <td>NaN</td>\n      <td>NaN</td>\n      <td>NaN</td>\n      <td>NaN</td>\n      <td>NaN</td>\n      <td>NaN</td>\n      <td>NaN</td>\n    </tr>\n    <tr>\n      <th>3</th>\n      <td>NaN</td>\n      <td>NaN</td>\n      <td>NaN</td>\n      <td>NaN</td>\n      <td>NaN</td>\n      <td>NaN</td>\n      <td>NaN</td>\n      <td>NaN</td>\n      <td>NaN</td>\n      <td>NaN</td>\n      <td>...</td>\n      <td>NaN</td>\n      <td>NaN</td>\n      <td>NaN</td>\n      <td>NaN</td>\n      <td>NaN</td>\n      <td>NaN</td>\n      <td>NaN</td>\n      <td>NaN</td>\n      <td>NaN</td>\n      <td>NaN</td>\n    </tr>\n    <tr>\n      <th>4</th>\n      <td>NaN</td>\n      <td>NaN</td>\n      <td>NaN</td>\n      <td>NaN</td>\n      <td>NaN</td>\n      <td>NaN</td>\n      <td>NaN</td>\n      <td>NaN</td>\n      <td>NaN</td>\n      <td>NaN</td>\n      <td>...</td>\n      <td>NaN</td>\n      <td>NaN</td>\n      <td>NaN</td>\n      <td>NaN</td>\n      <td>NaN</td>\n      <td>NaN</td>\n      <td>NaN</td>\n      <td>NaN</td>\n      <td>NaN</td>\n      <td>NaN</td>\n    </tr>\n  </tbody>\n</table>\n<p>5 rows × 33 columns</p>\n</div>"
          },
          "metadata": {}
        }
      ]
    },
    {
      "metadata": {
        "trusted": true
      },
      "cell_type": "code",
      "source": "#add data to each row\nfor i in range(395):\n    for j in range(33):\n        df1.loc[i][j] = rows_list[i][0][j]\n",
      "execution_count": 134,
      "outputs": []
    },
    {
      "metadata": {
        "trusted": true
      },
      "cell_type": "code",
      "source": "#DF has waste symbol '\"\"'\ndf1.head()",
      "execution_count": 136,
      "outputs": [
        {
          "output_type": "execute_result",
          "execution_count": 136,
          "data": {
            "text/plain": "  school  sex age address famsize Pstatus Medu Fedu       Mjob        Fjob  \\\n0     GP  \"F\"  18     \"U\"   \"GT3\"     \"A\"    4    4  \"at_home\"   \"teacher\"   \n1     GP  \"F\"  17     \"U\"   \"GT3\"     \"T\"    1    1  \"at_home\"     \"other\"   \n2     GP  \"F\"  15     \"U\"   \"LE3\"     \"T\"    1    1  \"at_home\"     \"other\"   \n3     GP  \"F\"  15     \"U\"   \"GT3\"     \"T\"    4    2   \"health\"  \"services\"   \n4     GP  \"F\"  16     \"U\"   \"GT3\"     \"T\"    3    3    \"other\"     \"other\"   \n\n  ... famrel freetime goout Dalc Walc health absences    G1    G2  G3  \n0 ...      4        3     4    1    1      3        6   \"5\"   \"6\"   6  \n1 ...      5        3     3    1    1      3        4   \"5\"   \"5\"   6  \n2 ...      4        3     2    2    3      3       10   \"7\"   \"8\"  10  \n3 ...      3        2     2    1    1      5        2  \"15\"  \"14\"  15  \n4 ...      4        3     2    1    2      5        4   \"6\"  \"10\"  10  \n\n[5 rows x 33 columns]",
            "text/html": "<div>\n<table border=\"1\" class=\"dataframe\">\n  <thead>\n    <tr style=\"text-align: right;\">\n      <th></th>\n      <th>school</th>\n      <th>sex</th>\n      <th>age</th>\n      <th>address</th>\n      <th>famsize</th>\n      <th>Pstatus</th>\n      <th>Medu</th>\n      <th>Fedu</th>\n      <th>Mjob</th>\n      <th>Fjob</th>\n      <th>...</th>\n      <th>famrel</th>\n      <th>freetime</th>\n      <th>goout</th>\n      <th>Dalc</th>\n      <th>Walc</th>\n      <th>health</th>\n      <th>absences</th>\n      <th>G1</th>\n      <th>G2</th>\n      <th>G3</th>\n    </tr>\n  </thead>\n  <tbody>\n    <tr>\n      <th>0</th>\n      <td>GP</td>\n      <td>\"F\"</td>\n      <td>18</td>\n      <td>\"U\"</td>\n      <td>\"GT3\"</td>\n      <td>\"A\"</td>\n      <td>4</td>\n      <td>4</td>\n      <td>\"at_home\"</td>\n      <td>\"teacher\"</td>\n      <td>...</td>\n      <td>4</td>\n      <td>3</td>\n      <td>4</td>\n      <td>1</td>\n      <td>1</td>\n      <td>3</td>\n      <td>6</td>\n      <td>\"5\"</td>\n      <td>\"6\"</td>\n      <td>6</td>\n    </tr>\n    <tr>\n      <th>1</th>\n      <td>GP</td>\n      <td>\"F\"</td>\n      <td>17</td>\n      <td>\"U\"</td>\n      <td>\"GT3\"</td>\n      <td>\"T\"</td>\n      <td>1</td>\n      <td>1</td>\n      <td>\"at_home\"</td>\n      <td>\"other\"</td>\n      <td>...</td>\n      <td>5</td>\n      <td>3</td>\n      <td>3</td>\n      <td>1</td>\n      <td>1</td>\n      <td>3</td>\n      <td>4</td>\n      <td>\"5\"</td>\n      <td>\"5\"</td>\n      <td>6</td>\n    </tr>\n    <tr>\n      <th>2</th>\n      <td>GP</td>\n      <td>\"F\"</td>\n      <td>15</td>\n      <td>\"U\"</td>\n      <td>\"LE3\"</td>\n      <td>\"T\"</td>\n      <td>1</td>\n      <td>1</td>\n      <td>\"at_home\"</td>\n      <td>\"other\"</td>\n      <td>...</td>\n      <td>4</td>\n      <td>3</td>\n      <td>2</td>\n      <td>2</td>\n      <td>3</td>\n      <td>3</td>\n      <td>10</td>\n      <td>\"7\"</td>\n      <td>\"8\"</td>\n      <td>10</td>\n    </tr>\n    <tr>\n      <th>3</th>\n      <td>GP</td>\n      <td>\"F\"</td>\n      <td>15</td>\n      <td>\"U\"</td>\n      <td>\"GT3\"</td>\n      <td>\"T\"</td>\n      <td>4</td>\n      <td>2</td>\n      <td>\"health\"</td>\n      <td>\"services\"</td>\n      <td>...</td>\n      <td>3</td>\n      <td>2</td>\n      <td>2</td>\n      <td>1</td>\n      <td>1</td>\n      <td>5</td>\n      <td>2</td>\n      <td>\"15\"</td>\n      <td>\"14\"</td>\n      <td>15</td>\n    </tr>\n    <tr>\n      <th>4</th>\n      <td>GP</td>\n      <td>\"F\"</td>\n      <td>16</td>\n      <td>\"U\"</td>\n      <td>\"GT3\"</td>\n      <td>\"T\"</td>\n      <td>3</td>\n      <td>3</td>\n      <td>\"other\"</td>\n      <td>\"other\"</td>\n      <td>...</td>\n      <td>4</td>\n      <td>3</td>\n      <td>2</td>\n      <td>1</td>\n      <td>2</td>\n      <td>5</td>\n      <td>4</td>\n      <td>\"6\"</td>\n      <td>\"10\"</td>\n      <td>10</td>\n    </tr>\n  </tbody>\n</table>\n<p>5 rows × 33 columns</p>\n</div>"
          },
          "metadata": {}
        }
      ]
    },
    {
      "metadata": {
        "trusted": true
      },
      "cell_type": "code",
      "source": "#Remove waste symbol\ndf1 = df1.replace({'\"':''}, regex=True)\ndf1.head()",
      "execution_count": 151,
      "outputs": [
        {
          "output_type": "execute_result",
          "execution_count": 151,
          "data": {
            "text/plain": "  school sex age address famsize Pstatus Medu Fedu     Mjob      Fjob ...  \\\n0     GP   F  18       U     GT3       A    4    4  at_home   teacher ...   \n1     GP   F  17       U     GT3       T    1    1  at_home     other ...   \n2     GP   F  15       U     LE3       T    1    1  at_home     other ...   \n3     GP   F  15       U     GT3       T    4    2   health  services ...   \n4     GP   F  16       U     GT3       T    3    3    other     other ...   \n\n  famrel freetime goout Dalc Walc health absences  G1  G2  G3  \n0      4        3     4    1    1      3        6   5   6   6  \n1      5        3     3    1    1      3        4   5   5   6  \n2      4        3     2    2    3      3       10   7   8  10  \n3      3        2     2    1    1      5        2  15  14  15  \n4      4        3     2    1    2      5        4   6  10  10  \n\n[5 rows x 33 columns]",
            "text/html": "<div>\n<table border=\"1\" class=\"dataframe\">\n  <thead>\n    <tr style=\"text-align: right;\">\n      <th></th>\n      <th>school</th>\n      <th>sex</th>\n      <th>age</th>\n      <th>address</th>\n      <th>famsize</th>\n      <th>Pstatus</th>\n      <th>Medu</th>\n      <th>Fedu</th>\n      <th>Mjob</th>\n      <th>Fjob</th>\n      <th>...</th>\n      <th>famrel</th>\n      <th>freetime</th>\n      <th>goout</th>\n      <th>Dalc</th>\n      <th>Walc</th>\n      <th>health</th>\n      <th>absences</th>\n      <th>G1</th>\n      <th>G2</th>\n      <th>G3</th>\n    </tr>\n  </thead>\n  <tbody>\n    <tr>\n      <th>0</th>\n      <td>GP</td>\n      <td>F</td>\n      <td>18</td>\n      <td>U</td>\n      <td>GT3</td>\n      <td>A</td>\n      <td>4</td>\n      <td>4</td>\n      <td>at_home</td>\n      <td>teacher</td>\n      <td>...</td>\n      <td>4</td>\n      <td>3</td>\n      <td>4</td>\n      <td>1</td>\n      <td>1</td>\n      <td>3</td>\n      <td>6</td>\n      <td>5</td>\n      <td>6</td>\n      <td>6</td>\n    </tr>\n    <tr>\n      <th>1</th>\n      <td>GP</td>\n      <td>F</td>\n      <td>17</td>\n      <td>U</td>\n      <td>GT3</td>\n      <td>T</td>\n      <td>1</td>\n      <td>1</td>\n      <td>at_home</td>\n      <td>other</td>\n      <td>...</td>\n      <td>5</td>\n      <td>3</td>\n      <td>3</td>\n      <td>1</td>\n      <td>1</td>\n      <td>3</td>\n      <td>4</td>\n      <td>5</td>\n      <td>5</td>\n      <td>6</td>\n    </tr>\n    <tr>\n      <th>2</th>\n      <td>GP</td>\n      <td>F</td>\n      <td>15</td>\n      <td>U</td>\n      <td>LE3</td>\n      <td>T</td>\n      <td>1</td>\n      <td>1</td>\n      <td>at_home</td>\n      <td>other</td>\n      <td>...</td>\n      <td>4</td>\n      <td>3</td>\n      <td>2</td>\n      <td>2</td>\n      <td>3</td>\n      <td>3</td>\n      <td>10</td>\n      <td>7</td>\n      <td>8</td>\n      <td>10</td>\n    </tr>\n    <tr>\n      <th>3</th>\n      <td>GP</td>\n      <td>F</td>\n      <td>15</td>\n      <td>U</td>\n      <td>GT3</td>\n      <td>T</td>\n      <td>4</td>\n      <td>2</td>\n      <td>health</td>\n      <td>services</td>\n      <td>...</td>\n      <td>3</td>\n      <td>2</td>\n      <td>2</td>\n      <td>1</td>\n      <td>1</td>\n      <td>5</td>\n      <td>2</td>\n      <td>15</td>\n      <td>14</td>\n      <td>15</td>\n    </tr>\n    <tr>\n      <th>4</th>\n      <td>GP</td>\n      <td>F</td>\n      <td>16</td>\n      <td>U</td>\n      <td>GT3</td>\n      <td>T</td>\n      <td>3</td>\n      <td>3</td>\n      <td>other</td>\n      <td>other</td>\n      <td>...</td>\n      <td>4</td>\n      <td>3</td>\n      <td>2</td>\n      <td>1</td>\n      <td>2</td>\n      <td>5</td>\n      <td>4</td>\n      <td>6</td>\n      <td>10</td>\n      <td>10</td>\n    </tr>\n  </tbody>\n</table>\n<p>5 rows × 33 columns</p>\n</div>"
          },
          "metadata": {}
        }
      ]
    }
  ],
  "metadata": {
    "kernelspec": {
      "name": "python3",
      "display_name": "Python 3",
      "language": "python"
    },
    "language_info": {
      "mimetype": "text/x-python",
      "nbconvert_exporter": "python",
      "name": "python",
      "pygments_lexer": "ipython3",
      "version": "3.5.4",
      "file_extension": ".py",
      "codemirror_mode": {
        "version": 3,
        "name": "ipython"
      }
    }
  },
  "nbformat": 4,
  "nbformat_minor": 2
}